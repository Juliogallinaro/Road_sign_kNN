{
 "cells": [
  {
   "attachments": {},
   "cell_type": "markdown",
   "metadata": {},
   "source": [
    "Each previously observed street sign was divided into a 4x4 grid, and the red, green, and blue level for each of the 16 center pixels is recorded as illustrated here.\n",
    "<img src=\"http://s3.amazonaws.com/assets.datacamp.com/production/course_2906/datasets/knn_sign_data.png\" width=\"800\" />\n",
    "\n"
   ]
  },
  {
   "cell_type": "code",
   "execution_count": 3,
   "metadata": {},
   "outputs": [],
   "source": [
    "# Load the 'class' package\n",
    "library(class)"
   ]
  },
  {
   "cell_type": "code",
   "execution_count": 8,
   "metadata": {},
   "outputs": [
    {
     "data": {
      "text/html": [
       "<table>\n",
       "<thead><tr><th scope=col>id</th><th scope=col>sample</th><th scope=col>sign_type</th><th scope=col>r1</th><th scope=col>g1</th><th scope=col>b1</th><th scope=col>r2</th><th scope=col>g2</th><th scope=col>b2</th><th scope=col>r3</th><th scope=col>...</th><th scope=col>b13</th><th scope=col>r14</th><th scope=col>g14</th><th scope=col>b14</th><th scope=col>r15</th><th scope=col>g15</th><th scope=col>b15</th><th scope=col>r16</th><th scope=col>g16</th><th scope=col>b16</th></tr></thead>\n",
       "<tbody>\n",
       "\t<tr><td>1         </td><td>train     </td><td>pedestrian</td><td>155       </td><td>228       </td><td>251       </td><td>135       </td><td>188       </td><td>101       </td><td>156       </td><td>...       </td><td>244       </td><td>172       </td><td>228       </td><td>235       </td><td>177       </td><td>235       </td><td>244       </td><td> 22       </td><td> 52       </td><td> 53       </td></tr>\n",
       "\t<tr><td>2         </td><td>train     </td><td>pedestrian</td><td>142       </td><td>217       </td><td>242       </td><td>166       </td><td>204       </td><td> 44       </td><td>142       </td><td>...       </td><td>237       </td><td>182       </td><td>228       </td><td>143       </td><td>171       </td><td>228       </td><td>196       </td><td>164       </td><td>227       </td><td>237       </td></tr>\n",
       "\t<tr><td>3         </td><td>train     </td><td>pedestrian</td><td> 57       </td><td> 54       </td><td> 50       </td><td>187       </td><td>201       </td><td> 68       </td><td> 51       </td><td>...       </td><td> 59       </td><td> 76       </td><td> 84       </td><td> 22       </td><td> 82       </td><td> 93       </td><td> 17       </td><td> 58       </td><td> 60       </td><td> 60       </td></tr>\n",
       "\t<tr><td>4         </td><td>train     </td><td>pedestrian</td><td> 22       </td><td> 35       </td><td> 41       </td><td>171       </td><td>178       </td><td> 26       </td><td> 19       </td><td>...       </td><td> 34       </td><td> 64       </td><td> 61       </td><td>  4       </td><td>211       </td><td>222       </td><td> 78       </td><td> 19       </td><td> 27       </td><td> 29       </td></tr>\n",
       "\t<tr><td>5         </td><td>train     </td><td>pedestrian</td><td>169       </td><td>179       </td><td>170       </td><td>231       </td><td>254       </td><td> 27       </td><td> 97       </td><td>...       </td><td> 91       </td><td>188       </td><td>205       </td><td> 78       </td><td>125       </td><td>147       </td><td> 20       </td><td>160       </td><td>183       </td><td>187       </td></tr>\n",
       "\t<tr><td>6         </td><td>train     </td><td>pedestrian</td><td> 75       </td><td> 67       </td><td> 60       </td><td>131       </td><td> 89       </td><td> 53       </td><td>214       </td><td>...       </td><td> 26       </td><td>197       </td><td>114       </td><td> 21       </td><td>123       </td><td> 74       </td><td> 22       </td><td>180       </td><td>107       </td><td> 26       </td></tr>\n",
       "</tbody>\n",
       "</table>\n"
      ],
      "text/latex": [
       "\\begin{tabular}{r|lllllllllllllllllllllllllllllllllllllllllllllllllll}\n",
       " id & sample & sign\\_type & r1 & g1 & b1 & r2 & g2 & b2 & r3 & ... & b13 & r14 & g14 & b14 & r15 & g15 & b15 & r16 & g16 & b16\\\\\n",
       "\\hline\n",
       "\t 1          & train      & pedestrian & 155        & 228        & 251        & 135        & 188        & 101        & 156        & ...        & 244        & 172        & 228        & 235        & 177        & 235        & 244        &  22        &  52        &  53       \\\\\n",
       "\t 2          & train      & pedestrian & 142        & 217        & 242        & 166        & 204        &  44        & 142        & ...        & 237        & 182        & 228        & 143        & 171        & 228        & 196        & 164        & 227        & 237       \\\\\n",
       "\t 3          & train      & pedestrian &  57        &  54        &  50        & 187        & 201        &  68        &  51        & ...        &  59        &  76        &  84        &  22        &  82        &  93        &  17        &  58        &  60        &  60       \\\\\n",
       "\t 4          & train      & pedestrian &  22        &  35        &  41        & 171        & 178        &  26        &  19        & ...        &  34        &  64        &  61        &   4        & 211        & 222        &  78        &  19        &  27        &  29       \\\\\n",
       "\t 5          & train      & pedestrian & 169        & 179        & 170        & 231        & 254        &  27        &  97        & ...        &  91        & 188        & 205        &  78        & 125        & 147        &  20        & 160        & 183        & 187       \\\\\n",
       "\t 6          & train      & pedestrian &  75        &  67        &  60        & 131        &  89        &  53        & 214        & ...        &  26        & 197        & 114        &  21        & 123        &  74        &  22        & 180        & 107        &  26       \\\\\n",
       "\\end{tabular}\n"
      ],
      "text/markdown": [
       "\n",
       "id | sample | sign_type | r1 | g1 | b1 | r2 | g2 | b2 | r3 | ... | b13 | r14 | g14 | b14 | r15 | g15 | b15 | r16 | g16 | b16 | \n",
       "|---|---|---|---|---|---|\n",
       "| 1          | train      | pedestrian | 155        | 228        | 251        | 135        | 188        | 101        | 156        | ...        | 244        | 172        | 228        | 235        | 177        | 235        | 244        |  22        |  52        |  53        | \n",
       "| 2          | train      | pedestrian | 142        | 217        | 242        | 166        | 204        |  44        | 142        | ...        | 237        | 182        | 228        | 143        | 171        | 228        | 196        | 164        | 227        | 237        | \n",
       "| 3          | train      | pedestrian |  57        |  54        |  50        | 187        | 201        |  68        |  51        | ...        |  59        |  76        |  84        |  22        |  82        |  93        |  17        |  58        |  60        |  60        | \n",
       "| 4          | train      | pedestrian |  22        |  35        |  41        | 171        | 178        |  26        |  19        | ...        |  34        |  64        |  61        |   4        | 211        | 222        |  78        |  19        |  27        |  29        | \n",
       "| 5          | train      | pedestrian | 169        | 179        | 170        | 231        | 254        |  27        |  97        | ...        |  91        | 188        | 205        |  78        | 125        | 147        |  20        | 160        | 183        | 187        | \n",
       "| 6          | train      | pedestrian |  75        |  67        |  60        | 131        |  89        |  53        | 214        | ...        |  26        | 197        | 114        |  21        | 123        |  74        |  22        | 180        | 107        |  26        | \n",
       "\n",
       "\n"
      ],
      "text/plain": [
       "  id sample sign_type  r1  g1  b1  r2  g2  b2  r3  ... b13 r14 g14 b14 r15 g15\n",
       "1 1  train  pedestrian 155 228 251 135 188 101 156 ... 244 172 228 235 177 235\n",
       "2 2  train  pedestrian 142 217 242 166 204  44 142 ... 237 182 228 143 171 228\n",
       "3 3  train  pedestrian  57  54  50 187 201  68  51 ...  59  76  84  22  82  93\n",
       "4 4  train  pedestrian  22  35  41 171 178  26  19 ...  34  64  61   4 211 222\n",
       "5 5  train  pedestrian 169 179 170 231 254  27  97 ...  91 188 205  78 125 147\n",
       "6 6  train  pedestrian  75  67  60 131  89  53 214 ...  26 197 114  21 123  74\n",
       "  b15 r16 g16 b16\n",
       "1 244  22  52  53\n",
       "2 196 164 227 237\n",
       "3  17  58  60  60\n",
       "4  78  19  27  29\n",
       "5  20 160 183 187\n",
       "6  22 180 107  26"
      ]
     },
     "metadata": {},
     "output_type": "display_data"
    }
   ],
   "source": [
    "signs <- read.csv(\"knn_traffic_signs.csv\")\n",
    "head(signs)"
   ]
  },
  {
   "cell_type": "code",
   "execution_count": 33,
   "metadata": {},
   "outputs": [],
   "source": [
    "test_signs <- signs[ which(signs$sample=='test'), ]\n",
    "train_signs <- signs[ which(signs$sample=='train'), ]\n",
    "test_signs <- test_signs[ c(-1,-2) ]\n",
    "train_signs <- train_signs[ c(-1,-2) ]"
   ]
  },
  {
   "cell_type": "code",
   "execution_count": 34,
   "metadata": {},
   "outputs": [],
   "source": [
    "# Create a vector of labels\n",
    "sign_types <- train_signs$sign_type"
   ]
  },
  {
   "cell_type": "code",
   "execution_count": 36,
   "metadata": {},
   "outputs": [],
   "source": [
    "signs_pred <- knn(train = train_signs[-1], test = test_signs[-1], cl = sign_types)"
   ]
  },
  {
   "cell_type": "code",
   "execution_count": 38,
   "metadata": {},
   "outputs": [
    {
     "data": {
      "text/plain": [
       "            signs_actual\n",
       "signs_pred   pedestrian speed stop\n",
       "  pedestrian         19     2    0\n",
       "  speed               0    17    0\n",
       "  stop                0     2   19"
      ]
     },
     "metadata": {},
     "output_type": "display_data"
    },
    {
     "data": {
      "text/html": [
       "0.932203389830508"
      ],
      "text/latex": [
       "0.932203389830508"
      ],
      "text/markdown": [
       "0.932203389830508"
      ],
      "text/plain": [
       "[1] 0.9322034"
      ]
     },
     "metadata": {},
     "output_type": "display_data"
    }
   ],
   "source": [
    "# Create a confusion matrix of the actual versus predicted values\n",
    "signs_actual <- test_signs[,1]\n",
    "table(signs_pred, signs_actual)\n",
    "\n",
    "# Compute the accuracy\n",
    "mean(signs_pred == signs_actual)"
   ]
  },
  {
   "cell_type": "code",
   "execution_count": 130,
   "metadata": {},
   "outputs": [],
   "source": [
    "kNN <- data.frame(matrix(0, 400, 2))\n",
    "names(kNN) <- c(\"Accuracy\", \"K\")\n",
    "i=0\n",
    "while (i<400){\n",
    "for (k in 1:20){\n",
    " kNN[k+i,1] <- mean( knn(train = train_signs[-1], test = test_signs[-1], cl = sign_types, k = k)== signs_actual)\n",
    " kNN[k+i,2] <- k\n",
    "   } \n",
    "    i=i+k}"
   ]
  },
  {
   "cell_type": "code",
   "execution_count": 131,
   "metadata": {},
   "outputs": [
    {
     "data": {},
     "metadata": {},
     "output_type": "display_data"
    },
    {
     "data": {
      "image/png": "[encoded data removed]",
      "text/plain": [
       "plot without title"
      ]
     },
     "metadata": {},
     "output_type": "display_data"
    }
   ],
   "source": [
    "library(ggplot2)\n",
    "\n",
    "\n",
    "#barplot:\n",
    "ggplot(kNN, aes(x=as.factor(K) , y= Accuracy, fill=as.factor(K) ))  + \n",
    "    geom_boxplot( alpha=0.2)+ \n",
    "    stat_summary(fun.y=mean, geom=\"line\", aes(group=1))  + \n",
    "    stat_summary(fun.y=mean, geom=\"point\") +\n",
    "    theme(legend.position=\"none\")+\n",
    "    xlab(\"K\")"
   ]
  },
  {
   "cell_type": "code",
   "execution_count": null,
   "metadata": {},
   "outputs": [],
   "source": []
  }
 ],
 "metadata": {
  "kernelspec": {
   "display_name": "R",
   "language": "R",
   "name": "ir"
  },
  "language_info": {
   "codemirror_mode": "r",
   "file_extension": ".r",
   "mimetype": "text/x-r-source",
   "name": "R",
   "pygments_lexer": "r",
   "version": "3.5.1"
  }
 },
 "nbformat": 4,
 "nbformat_minor": 2
}
